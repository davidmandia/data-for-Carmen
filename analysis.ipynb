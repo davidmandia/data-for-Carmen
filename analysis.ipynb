{
 "cells": [
  {
   "cell_type": "code",
   "execution_count": null,
   "id": "a1d776d2",
   "metadata": {
    "vscode": {
     "languageId": "plaintext"
    }
   },
   "outputs": [],
   "source": []
  },
  {
   "cell_type": "code",
   "execution_count": null,
   "id": "600abb07",
   "metadata": {
    "vscode": {
     "languageId": "plaintext"
    }
   },
   "outputs": [],
   "source": [
    "## Look at comparison between 2018 and 2024 \n",
    "\n",
    "## Check with Income / child poverty \n",
    "\n",
    "\n",
    "## compare with above and below average \n",
    "\n",
    "import pandas as pd\n",
    "import matplotlib.pyplot as plt\n",
    "import seaborn as sns\n",
    "import numpy as np\n",
    "import openpyxl\n",
    "\n"
   ]
  },
  {
   "cell_type": "code",
   "execution_count": null,
   "id": "1552d3d0",
   "metadata": {
    "vscode": {
     "languageId": "plaintext"
    }
   },
   "outputs": [],
   "source": [
    "\n",
    "# Load the data separately 2018 and 2024 \n",
    "df_2018 = pd.read_csv('data/GCSE_data_English language_2018_Aged 17 to 19_4 and above_Grade outcomes.csv')\n",
    "df_2024 = pd.read_csv('data/GCSE_data_English language_2024_Aged 17 to 19_4 and above_Grade outcomes.csv')\n",
    "\n",
    "# Create a column in each dataframe with difference between county average and national ( last column)\n",
    "df_2018['Difference_from_England_average'] = df_2018.iloc[:, -2] - df_2018.iloc[:, -1]\n",
    "df_2024['Difference_from_England_average'] = df_2024.iloc[:, -2] - df_2024.iloc[:, -1]\n",
    " \n",
    "## Merge dataframe on column County\n",
    "df_merged_2018_vs_2024 = pd.merge(df_2018, df_2024, on='County', suffixes=('_2018', '_2024'))\n",
    "# Check the first few rows of the merged dataframe\n",
    "#print(df_merged_2018_vs_2024.head())\n",
    "\n",
    "\n",
    "## import this data data/children-in-low-income-families-local-area-statistics-2014-to-2024 (1).xlsx from this worksheet 8_Absolute_Ward\n",
    "df_children = pd.read_excel('data/children-in-low-income-families-local-area-statistics-2014-to-2024 (1).xlsx', sheet_name='8_Absolute_Ward', header=9)\n",
    "# remove rows 1 to 9 and 11\n",
    " \n",
    "# Check the first few rows of the dataframe\n",
    "print(df_children.columns)\n"
   ]
  },
  {
   "cell_type": "code",
   "execution_count": null,
   "id": "3db24dd8",
   "metadata": {
    "vscode": {
     "languageId": "plaintext"
    }
   },
   "outputs": [],
   "source": [
    "\n",
    "\n",
    "# Filter relevant columns\n",
    "cols_needed = [\n",
    "    'Local Authority [note 2]',\n",
    "    'Number of children \\nFYE 2018',\n",
    "    'Percentage of children \\nFYE 2018 \\n(%)\\n[note 3]',\n",
    "    'Number of children \\nFYE 2024',\n",
    "    'Percentage of children \\nFYE 2024\\n(%)\\n[note 3]'\n",
    "]\n",
    "data = df_children[cols_needed].copy()\n",
    "\n",
    "print(data.head())\n",
    "\n",
    "# Clean percentages: remove '%' and convert, dropping invalid rows\n",
    "for col in [\n",
    "    'Percentage of children \\nFYE 2018 \\n(%)\\n[note 3]',\n",
    "    'Percentage of children \\nFYE 2024\\n(%)\\n[note 3]'\n",
    "]:\n",
    "    data[col] = data[col].str.rstrip('%')\n",
    "    data[col] = pd.to_numeric(data[col], errors='coerce')\n",
    "\n",
    "# Drop rows where conversion failed\n",
    "data = data.dropna(subset=[\n",
    "    'Percentage of children \\nFYE 2018 \\n(%)\\n[note 3]',\n",
    "    'Percentage of children \\nFYE 2024\\n(%)\\n[note 3]'\n",
    "])\n",
    "\n"
   ]
  },
  {
   "cell_type": "code",
   "execution_count": null,
   "id": "ce6559f7",
   "metadata": {
    "vscode": {
     "languageId": "plaintext"
    }
   },
   "outputs": [],
   "source": [
    "\n",
    "data[\"county\"] = data[\"Local Authority [note 2]\"].str.split(\" - \").str[0]\n",
    "data[\"county\"] = data[\"county\"].str.replace(\" County\", \"\", regex=False)\n",
    "data[\"county\"] = data[\"county\"].str.replace(\" City\", \"\", regex=False)\n",
    "# Group by County and compute total children and weighted percentage\n",
    "summary = (\n",
    "    data.groupby('Local Authority [note 2]', group_keys=False)\n",
    "    .apply(\n",
    "        lambda g: pd.Series({\n",
    "            'Total Children 2018': g['Number of children \\nFYE 2018'].sum(),\n",
    "            'Weighted Percentage 2018': (g['Number of children \\nFYE 2018'] * g['Percentage of children \\nFYE 2018 \\n(%)\\n[note 3]']).sum() / g['Number of children \\nFYE 2018'].sum(),\n",
    "            'Total Children 2024': g['Number of children \\nFYE 2024'].sum(),\n",
    "            'Weighted Percentage 2024': (g['Number of children \\nFYE 2024'] * g['Percentage of children \\nFYE 2024\\n(%)\\n[note 3]']).sum() / g['Number of children \\nFYE 2024'].sum(),\n",
    "        })\n",
    "    )\n",
    ")\n",
    "\n",
    "\n",
    "# Display the result\n",
    "print(summary)\n"
   ]
  }
 ],
 "metadata": {
  "language_info": {
   "name": "python"
  }
 },
 "nbformat": 4,
 "nbformat_minor": 5
}
